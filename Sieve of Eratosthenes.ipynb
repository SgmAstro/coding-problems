{
 "cells": [
  {
   "cell_type": "markdown",
   "metadata": {},
   "source": [
    "'''\n",
    "Sieve of Erathosthenes:\n",
    "\n",
    "Description: An algorithm used to find prime numbers up to some given limit. \n",
    "This method has been used since at least since the time of the Ancient Greeks.\n",
    "\n",
    "'''"
   ]
  },
  {
   "cell_type": "code",
   "execution_count": 36,
   "metadata": {},
   "outputs": [],
   "source": [
    "import matplotlib.pyplot as plt"
   ]
  },
  {
   "cell_type": "code",
   "execution_count": 52,
   "metadata": {},
   "outputs": [],
   "source": [
    "def sieve_of_Erathosthenes(n):\n",
    "    \n",
    "    if n == 0:\n",
    "        return []\n",
    "\n",
    "    prime_list = []\n",
    "    prime = [True for i in range(n+1)]\n",
    "    p = 2\n",
    "    while (p*p <= n):\n",
    "        if (prime[p] == True):\n",
    "            for i in range(p*2, n+1, p):\n",
    "                prime[i] = False\n",
    "        p += 1\n",
    "        \n",
    "    prime[0] = False\n",
    "    prime[1] = False\n",
    "\n",
    "    for p in range(n+1):\n",
    "        if prime[p]:\n",
    "            prime_list.append(p)\n",
    "            \n",
    "    return prime_list"
   ]
  },
  {
   "cell_type": "code",
   "execution_count": 81,
   "metadata": {},
   "outputs": [
    {
     "data": {
      "image/png": "[encoded data removed]",
      "text/plain": [
       "<Figure size 432x288 with 1 Axes>"
      ]
     },
     "metadata": {
      "needs_background": "light"
     },
     "output_type": "display_data"
    }
   ],
   "source": [
    "prime_list = sieve_of_Erathosthenes(100)\n",
    "plt.scatter(range(1, len(prime_list)+1), prime_list, s = 10)\n",
    "plt.xlabel('Limit on Sieve')\n",
    "plt.ylabel('Number of Primes')\n",
    "plt.title('Prime Counting Function')\n",
    "plt.show()"
   ]
  },
  {
   "cell_type": "code",
   "execution_count": null,
   "metadata": {},
   "outputs": [],
   "source": []
  }
 ],
 "metadata": {
  "kernelspec": {
   "display_name": "Python 3",
   "language": "python",
   "name": "python3"
  },
  "language_info": {
   "codemirror_mode": {
    "name": "ipython",
    "version": 3
   },
   "file_extension": ".py",
   "mimetype": "text/x-python",
   "name": "python",
   "nbconvert_exporter": "python",
   "pygments_lexer": "ipython3",
   "version": "3.8.2"
  }
 },
 "nbformat": 4,
 "nbformat_minor": 4
}
